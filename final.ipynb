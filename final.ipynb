{
  "nbformat": 4,
  "nbformat_minor": 0,
  "metadata": {
    "colab": {
      "name": "final.ipynb",
      "version": "0.3.2",
      "provenance": [],
      "collapsed_sections": []
    },
    "kernelspec": {
      "name": "python3",
      "display_name": "Python 3"
    },
    "accelerator": "TPU"
  },
  "cells": [
    {
      "cell_type": "code",
      "metadata": {
        "id": "tZ7gCXgA19se",
        "colab_type": "code",
        "outputId": "37ba24a4-c573-4678-917f-f1644b84ec1b",
        "colab": {
          "base_uri": "https://localhost:8080/",
          "height": 306
        }
      },
      "source": [
        "\n",
        "\n",
        "import gdown\n",
        "url= 'https://drive.google.com/uc?id=1RXx2j_czrARBNMS1vc2WT-oL-9iWT_PA'\n",
        "gdown.download(url,'GloVe',quiet= False)\n",
        "url = 'https://drive.google.com/uc?id=1IQq0XAWSOv0XiyORnaxHKQqkeDPp-Q2A'\n",
        "gdown.download(url,'train.csv',quiet= False)\n",
        "url = 'https://drive.google.com/uc?id=1OeJ5_KhbzJtv_HxfdjQ5IBZYQ9_HEuLX'\n",
        "gdown.download(url,'test_labels.csv',quiet= False)\n",
        "url = 'https://drive.google.com/uc?id=15Pvx6xXa2uPuePSZOXtvtbuTnPixM--r'\n",
        "gdown.download(url,'test.csv',quiet= False)"
      ],
      "execution_count": 0,
      "outputs": [
        {
          "output_type": "stream",
          "text": [
            "Downloading...\n",
            "From: https://drive.google.com/uc?id=1RXx2j_czrARBNMS1vc2WT-oL-9iWT_PA\n",
            "To: /content/GloVe\n",
            "862MB [00:05, 154MB/s]\n",
            "Downloading...\n",
            "From: https://drive.google.com/uc?id=1IQq0XAWSOv0XiyORnaxHKQqkeDPp-Q2A\n",
            "To: /content/train.csv\n",
            "68.8MB [00:00, 144MB/s] \n",
            "Downloading...\n",
            "From: https://drive.google.com/uc?id=1OeJ5_KhbzJtv_HxfdjQ5IBZYQ9_HEuLX\n",
            "To: /content/test_labels.csv\n",
            "4.98MB [00:00, 183MB/s]\n",
            "Downloading...\n",
            "From: https://drive.google.com/uc?id=15Pvx6xXa2uPuePSZOXtvtbuTnPixM--r\n",
            "To: /content/test.csv\n",
            "60.4MB [00:00, 124MB/s] \n"
          ],
          "name": "stderr"
        },
        {
          "output_type": "execute_result",
          "data": {
            "text/plain": [
              "'test.csv'"
            ]
          },
          "metadata": {
            "tags": []
          },
          "execution_count": 1
        }
      ]
    },
    {
      "cell_type": "code",
      "metadata": {
        "id": "ps0f9Jt92N-i",
        "colab_type": "code",
        "colab": {}
      },
      "source": [
        "import os \n",
        "import zipfile\n",
        "with zipfile.ZipFile('GloVe','r')as zipref:\n",
        "  zipref.extractall('data/')"
      ],
      "execution_count": 0,
      "outputs": []
    },
    {
      "cell_type": "code",
      "metadata": {
        "id": "JOzKZGrY2VE0",
        "colab_type": "code",
        "colab": {}
      },
      "source": [
        "import pandas as pd\n",
        "import numpy as np\n",
        "\n",
        "import matplotlib.pyplot as plt\n",
        "plt.style.use('seaborn')\n",
        "\n",
        "import seaborn as sns"
      ],
      "execution_count": 0,
      "outputs": []
    },
    {
      "cell_type": "code",
      "metadata": {
        "id": "AfDmw5E92WJf",
        "colab_type": "code",
        "outputId": "d4e2c043-5ef3-4b5d-b50e-b781369f9b37",
        "colab": {
          "base_uri": "https://localhost:8080/",
          "height": 128
        }
      },
      "source": [
        "test_labels = pd.read_csv('test_labels.csv')\n",
        "print(test_labels.shape)\n",
        "test_labels.head(2)"
      ],
      "execution_count": 0,
      "outputs": [
        {
          "output_type": "stream",
          "text": [
            "(153164, 7)\n"
          ],
          "name": "stdout"
        },
        {
          "output_type": "execute_result",
          "data": {
            "text/html": [
              "<div>\n",
              "<style scoped>\n",
              "    .dataframe tbody tr th:only-of-type {\n",
              "        vertical-align: middle;\n",
              "    }\n",
              "\n",
              "    .dataframe tbody tr th {\n",
              "        vertical-align: top;\n",
              "    }\n",
              "\n",
              "    .dataframe thead th {\n",
              "        text-align: right;\n",
              "    }\n",
              "</style>\n",
              "<table border=\"1\" class=\"dataframe\">\n",
              "  <thead>\n",
              "    <tr style=\"text-align: right;\">\n",
              "      <th></th>\n",
              "      <th>id</th>\n",
              "      <th>toxic</th>\n",
              "      <th>severe_toxic</th>\n",
              "      <th>obscene</th>\n",
              "      <th>threat</th>\n",
              "      <th>insult</th>\n",
              "      <th>identity_hate</th>\n",
              "    </tr>\n",
              "  </thead>\n",
              "  <tbody>\n",
              "    <tr>\n",
              "      <th>0</th>\n",
              "      <td>00001cee341fdb12</td>\n",
              "      <td>-1</td>\n",
              "      <td>-1</td>\n",
              "      <td>-1</td>\n",
              "      <td>-1</td>\n",
              "      <td>-1</td>\n",
              "      <td>-1</td>\n",
              "    </tr>\n",
              "    <tr>\n",
              "      <th>1</th>\n",
              "      <td>0000247867823ef7</td>\n",
              "      <td>-1</td>\n",
              "      <td>-1</td>\n",
              "      <td>-1</td>\n",
              "      <td>-1</td>\n",
              "      <td>-1</td>\n",
              "      <td>-1</td>\n",
              "    </tr>\n",
              "  </tbody>\n",
              "</table>\n",
              "</div>"
            ],
            "text/plain": [
              "                 id  toxic  severe_toxic  obscene  threat  insult  \\\n",
              "0  00001cee341fdb12     -1            -1       -1      -1      -1   \n",
              "1  0000247867823ef7     -1            -1       -1      -1      -1   \n",
              "\n",
              "   identity_hate  \n",
              "0             -1  \n",
              "1             -1  "
            ]
          },
          "metadata": {
            "tags": []
          },
          "execution_count": 4
        }
      ]
    },
    {
      "cell_type": "code",
      "metadata": {
        "id": "-_jAyMrY66sF",
        "colab_type": "code",
        "outputId": "fadff9fa-843d-46d0-edd5-99c068208ede",
        "colab": {
          "base_uri": "https://localhost:8080/",
          "height": 128
        }
      },
      "source": [
        "test_labels = test_labels[(test_labels[['toxic','severe_toxic', 'obscene', 'threat', \n",
        "                                        'insult', 'identity_hate']] != -1).all(axis=1)]\n",
        "print(test_labels.shape)\n",
        "test_labels.head(2)"
      ],
      "execution_count": 0,
      "outputs": [
        {
          "output_type": "stream",
          "text": [
            "(63978, 7)\n"
          ],
          "name": "stdout"
        },
        {
          "output_type": "execute_result",
          "data": {
            "text/html": [
              "<div>\n",
              "<style scoped>\n",
              "    .dataframe tbody tr th:only-of-type {\n",
              "        vertical-align: middle;\n",
              "    }\n",
              "\n",
              "    .dataframe tbody tr th {\n",
              "        vertical-align: top;\n",
              "    }\n",
              "\n",
              "    .dataframe thead th {\n",
              "        text-align: right;\n",
              "    }\n",
              "</style>\n",
              "<table border=\"1\" class=\"dataframe\">\n",
              "  <thead>\n",
              "    <tr style=\"text-align: right;\">\n",
              "      <th></th>\n",
              "      <th>id</th>\n",
              "      <th>toxic</th>\n",
              "      <th>severe_toxic</th>\n",
              "      <th>obscene</th>\n",
              "      <th>threat</th>\n",
              "      <th>insult</th>\n",
              "      <th>identity_hate</th>\n",
              "    </tr>\n",
              "  </thead>\n",
              "  <tbody>\n",
              "    <tr>\n",
              "      <th>5</th>\n",
              "      <td>0001ea8717f6de06</td>\n",
              "      <td>0</td>\n",
              "      <td>0</td>\n",
              "      <td>0</td>\n",
              "      <td>0</td>\n",
              "      <td>0</td>\n",
              "      <td>0</td>\n",
              "    </tr>\n",
              "    <tr>\n",
              "      <th>7</th>\n",
              "      <td>000247e83dcc1211</td>\n",
              "      <td>0</td>\n",
              "      <td>0</td>\n",
              "      <td>0</td>\n",
              "      <td>0</td>\n",
              "      <td>0</td>\n",
              "      <td>0</td>\n",
              "    </tr>\n",
              "  </tbody>\n",
              "</table>\n",
              "</div>"
            ],
            "text/plain": [
              "                 id  toxic  severe_toxic  obscene  threat  insult  \\\n",
              "5  0001ea8717f6de06      0             0        0       0       0   \n",
              "7  000247e83dcc1211      0             0        0       0       0   \n",
              "\n",
              "   identity_hate  \n",
              "5              0  \n",
              "7              0  "
            ]
          },
          "metadata": {
            "tags": []
          },
          "execution_count": 5
        }
      ]
    },
    {
      "cell_type": "code",
      "metadata": {
        "id": "0R9FYO6R-Pb3",
        "colab_type": "code",
        "outputId": "dabddf54-3fba-4bd4-f948-2cdb05ccdf6c",
        "colab": {
          "base_uri": "https://localhost:8080/",
          "height": 128
        }
      },
      "source": [
        "df_test = pd.read_csv('test.csv')\n",
        "print(df_test.shape)\n",
        "df_test.head(2)"
      ],
      "execution_count": 0,
      "outputs": [
        {
          "output_type": "stream",
          "text": [
            "(153164, 2)\n"
          ],
          "name": "stdout"
        },
        {
          "output_type": "execute_result",
          "data": {
            "text/html": [
              "<div>\n",
              "<style scoped>\n",
              "    .dataframe tbody tr th:only-of-type {\n",
              "        vertical-align: middle;\n",
              "    }\n",
              "\n",
              "    .dataframe tbody tr th {\n",
              "        vertical-align: top;\n",
              "    }\n",
              "\n",
              "    .dataframe thead th {\n",
              "        text-align: right;\n",
              "    }\n",
              "</style>\n",
              "<table border=\"1\" class=\"dataframe\">\n",
              "  <thead>\n",
              "    <tr style=\"text-align: right;\">\n",
              "      <th></th>\n",
              "      <th>id</th>\n",
              "      <th>comment_text</th>\n",
              "    </tr>\n",
              "  </thead>\n",
              "  <tbody>\n",
              "    <tr>\n",
              "      <th>0</th>\n",
              "      <td>00001cee341fdb12</td>\n",
              "      <td>Yo bitch Ja Rule is more succesful then you'll...</td>\n",
              "    </tr>\n",
              "    <tr>\n",
              "      <th>1</th>\n",
              "      <td>0000247867823ef7</td>\n",
              "      <td>== From RfC == \\n\\n The title is fine as it is...</td>\n",
              "    </tr>\n",
              "  </tbody>\n",
              "</table>\n",
              "</div>"
            ],
            "text/plain": [
              "                 id                                       comment_text\n",
              "0  00001cee341fdb12  Yo bitch Ja Rule is more succesful then you'll...\n",
              "1  0000247867823ef7  == From RfC == \\n\\n The title is fine as it is..."
            ]
          },
          "metadata": {
            "tags": []
          },
          "execution_count": 6
        }
      ]
    },
    {
      "cell_type": "code",
      "metadata": {
        "id": "YzcvMxmt-SVO",
        "colab_type": "code",
        "outputId": "1c59b83b-1e0b-408b-b0c7-eda32814878e",
        "colab": {
          "base_uri": "https://localhost:8080/",
          "height": 128
        }
      },
      "source": [
        "test = pd.merge(test_labels, df_test, on='id', how='inner')\n",
        "print(test.shape)\n",
        "test.head(2)"
      ],
      "execution_count": 0,
      "outputs": [
        {
          "output_type": "stream",
          "text": [
            "(63978, 8)\n"
          ],
          "name": "stdout"
        },
        {
          "output_type": "execute_result",
          "data": {
            "text/html": [
              "<div>\n",
              "<style scoped>\n",
              "    .dataframe tbody tr th:only-of-type {\n",
              "        vertical-align: middle;\n",
              "    }\n",
              "\n",
              "    .dataframe tbody tr th {\n",
              "        vertical-align: top;\n",
              "    }\n",
              "\n",
              "    .dataframe thead th {\n",
              "        text-align: right;\n",
              "    }\n",
              "</style>\n",
              "<table border=\"1\" class=\"dataframe\">\n",
              "  <thead>\n",
              "    <tr style=\"text-align: right;\">\n",
              "      <th></th>\n",
              "      <th>id</th>\n",
              "      <th>toxic</th>\n",
              "      <th>severe_toxic</th>\n",
              "      <th>obscene</th>\n",
              "      <th>threat</th>\n",
              "      <th>insult</th>\n",
              "      <th>identity_hate</th>\n",
              "      <th>comment_text</th>\n",
              "    </tr>\n",
              "  </thead>\n",
              "  <tbody>\n",
              "    <tr>\n",
              "      <th>0</th>\n",
              "      <td>0001ea8717f6de06</td>\n",
              "      <td>0</td>\n",
              "      <td>0</td>\n",
              "      <td>0</td>\n",
              "      <td>0</td>\n",
              "      <td>0</td>\n",
              "      <td>0</td>\n",
              "      <td>Thank you for understanding. I think very high...</td>\n",
              "    </tr>\n",
              "    <tr>\n",
              "      <th>1</th>\n",
              "      <td>000247e83dcc1211</td>\n",
              "      <td>0</td>\n",
              "      <td>0</td>\n",
              "      <td>0</td>\n",
              "      <td>0</td>\n",
              "      <td>0</td>\n",
              "      <td>0</td>\n",
              "      <td>:Dear god this site is horrible.</td>\n",
              "    </tr>\n",
              "  </tbody>\n",
              "</table>\n",
              "</div>"
            ],
            "text/plain": [
              "                 id  toxic  severe_toxic  obscene  threat  insult  \\\n",
              "0  0001ea8717f6de06      0             0        0       0       0   \n",
              "1  000247e83dcc1211      0             0        0       0       0   \n",
              "\n",
              "   identity_hate                                       comment_text  \n",
              "0              0  Thank you for understanding. I think very high...  \n",
              "1              0                   :Dear god this site is horrible.  "
            ]
          },
          "metadata": {
            "tags": []
          },
          "execution_count": 7
        }
      ]
    },
    {
      "cell_type": "code",
      "metadata": {
        "id": "Gb6DH67c-eSZ",
        "colab_type": "code",
        "outputId": "f6abf282-f383-488c-b7b6-c011321fb2bb",
        "colab": {
          "base_uri": "https://localhost:8080/",
          "height": 111
        }
      },
      "source": [
        "train = pd.read_csv('train.csv')\n",
        "train.head(2)"
      ],
      "execution_count": 0,
      "outputs": [
        {
          "output_type": "execute_result",
          "data": {
            "text/html": [
              "<div>\n",
              "<style scoped>\n",
              "    .dataframe tbody tr th:only-of-type {\n",
              "        vertical-align: middle;\n",
              "    }\n",
              "\n",
              "    .dataframe tbody tr th {\n",
              "        vertical-align: top;\n",
              "    }\n",
              "\n",
              "    .dataframe thead th {\n",
              "        text-align: right;\n",
              "    }\n",
              "</style>\n",
              "<table border=\"1\" class=\"dataframe\">\n",
              "  <thead>\n",
              "    <tr style=\"text-align: right;\">\n",
              "      <th></th>\n",
              "      <th>id</th>\n",
              "      <th>comment_text</th>\n",
              "      <th>toxic</th>\n",
              "      <th>severe_toxic</th>\n",
              "      <th>obscene</th>\n",
              "      <th>threat</th>\n",
              "      <th>insult</th>\n",
              "      <th>identity_hate</th>\n",
              "    </tr>\n",
              "  </thead>\n",
              "  <tbody>\n",
              "    <tr>\n",
              "      <th>0</th>\n",
              "      <td>0000997932d777bf</td>\n",
              "      <td>Explanation\\nWhy the edits made under my usern...</td>\n",
              "      <td>0</td>\n",
              "      <td>0</td>\n",
              "      <td>0</td>\n",
              "      <td>0</td>\n",
              "      <td>0</td>\n",
              "      <td>0</td>\n",
              "    </tr>\n",
              "    <tr>\n",
              "      <th>1</th>\n",
              "      <td>000103f0d9cfb60f</td>\n",
              "      <td>D'aww! He matches this background colour I'm s...</td>\n",
              "      <td>0</td>\n",
              "      <td>0</td>\n",
              "      <td>0</td>\n",
              "      <td>0</td>\n",
              "      <td>0</td>\n",
              "      <td>0</td>\n",
              "    </tr>\n",
              "  </tbody>\n",
              "</table>\n",
              "</div>"
            ],
            "text/plain": [
              "                 id                                       comment_text  toxic  \\\n",
              "0  0000997932d777bf  Explanation\\nWhy the edits made under my usern...      0   \n",
              "1  000103f0d9cfb60f  D'aww! He matches this background colour I'm s...      0   \n",
              "\n",
              "   severe_toxic  obscene  threat  insult  identity_hate  \n",
              "0             0        0       0       0              0  \n",
              "1             0        0       0       0              0  "
            ]
          },
          "metadata": {
            "tags": []
          },
          "execution_count": 8
        }
      ]
    },
    {
      "cell_type": "code",
      "metadata": {
        "id": "d3QRVDec-ii_",
        "colab_type": "code",
        "outputId": "31f9af81-ab0a-414d-bf05-652cbf4a03d7",
        "colab": {
          "base_uri": "https://localhost:8080/",
          "height": 34
        }
      },
      "source": [
        "# check the number of records\n",
        "print('The dataset contains', train.shape[0], 'records and', train.shape[1], 'columns.')"
      ],
      "execution_count": 0,
      "outputs": [
        {
          "output_type": "stream",
          "text": [
            "The dataset contains 159571 records and 8 columns.\n"
          ],
          "name": "stdout"
        }
      ]
    },
    {
      "cell_type": "code",
      "metadata": {
        "id": "2catGgzN-rX4",
        "colab_type": "code",
        "outputId": "65ef2b50-61a3-446d-eebf-05fc26fadad1",
        "colab": {
          "base_uri": "https://localhost:8080/",
          "height": 34
        }
      },
      "source": [
        "# check that there are no missing values in either training set\n",
        "print('The dataset has', train.isna().sum().sum(), 'missing values.')"
      ],
      "execution_count": 0,
      "outputs": [
        {
          "output_type": "stream",
          "text": [
            "The dataset has 0 missing values.\n"
          ],
          "name": "stdout"
        }
      ]
    },
    {
      "cell_type": "code",
      "metadata": {
        "id": "I0TJCQnM-wlR",
        "colab_type": "code",
        "outputId": "d476b97d-4192-4fd1-d82b-26dc0bc21f30",
        "colab": {
          "base_uri": "https://localhost:8080/",
          "height": 34
        }
      },
      "source": [
        "# check if there are any duplicates\n",
        "print('The dataset has', train.duplicated().sum(), 'duplicates.')"
      ],
      "execution_count": 0,
      "outputs": [
        {
          "output_type": "stream",
          "text": [
            "The dataset has 0 duplicates.\n"
          ],
          "name": "stdout"
        }
      ]
    },
    {
      "cell_type": "markdown",
      "metadata": {
        "id": "YwkUo_r7_Gw5",
        "colab_type": "text"
      },
      "source": [
        "Preprocessing the Data\n"
      ]
    },
    {
      "cell_type": "code",
      "metadata": {
        "id": "WEKbflHg_LP3",
        "colab_type": "code",
        "outputId": "22d2215f-4634-4050-ca5f-f20f98c6a56a",
        "colab": {
          "base_uri": "https://localhost:8080/",
          "height": 34
        }
      },
      "source": [
        "# importing libraries\n",
        "from keras.preprocessing.text import Tokenizer\n",
        "from keras.preprocessing.sequence import pad_sequences\n",
        "from keras.preprocessing import text, sequence"
      ],
      "execution_count": 0,
      "outputs": [
        {
          "output_type": "stream",
          "text": [
            "Using TensorFlow backend.\n"
          ],
          "name": "stderr"
        }
      ]
    },
    {
      "cell_type": "code",
      "metadata": {
        "id": "s8QPWfN__SJ8",
        "colab_type": "code",
        "colab": {}
      },
      "source": [
        "X_train = train[\"comment_text\"].values\n",
        "X_test  = test[\"comment_text\"].values\n",
        "\n",
        "y_train = train[[\"toxic\", \"severe_toxic\", \"obscene\", \"threat\", \"insult\", \"identity_hate\"]].values\n",
        "y_test  = test[[\"toxic\", \"severe_toxic\", \"obscene\", \"threat\", \"insult\", \"identity_hate\"]].values"
      ],
      "execution_count": 0,
      "outputs": []
    },
    {
      "cell_type": "code",
      "metadata": {
        "id": "xvXihUf0_Wkk",
        "colab_type": "code",
        "outputId": "5a25fdab-888e-4e65-afda-ceb707e28f0b",
        "colab": {
          "base_uri": "https://localhost:8080/",
          "height": 51
        }
      },
      "source": [
        "# tokenizing the data\n",
        "tokenizer = Tokenizer(num_words=20000)\n",
        "tokenizer.fit_on_texts(list(X_train))\n",
        "\n",
        "# turning the tokenized text into sequences\n",
        "X_train = tokenizer.texts_to_sequences(X_train)\n",
        "X_test  = tokenizer.texts_to_sequences(X_test)\n",
        "\n",
        "# padding the sequences\n",
        "X_train = sequence.pad_sequences(X_train, maxlen=200)\n",
        "X_test  = sequence.pad_sequences(X_test,  maxlen=200)\n",
        "\n",
        "print('X_train shape:', X_train.shape)\n",
        "print('X_test shape: ', X_test.shape)"
      ],
      "execution_count": 0,
      "outputs": [
        {
          "output_type": "stream",
          "text": [
            "X_train shape: (159571, 200)\n",
            "X_test shape:  (63978, 200)\n"
          ],
          "name": "stdout"
        }
      ]
    },
    {
      "cell_type": "markdown",
      "metadata": {
        "id": "JWGLqwZ3_dBk",
        "colab_type": "text"
      },
      "source": [
        "Evaluating Different Neural Networks"
      ]
    },
    {
      "cell_type": "markdown",
      "metadata": {
        "id": "G0-XTGAk_qhI",
        "colab_type": "text"
      },
      "source": [
        "Deep learning models - or neural networks - have achieved state-of-the-art results in text classification problems. Here we work through different neural networks to compare their results.\n",
        "\n",
        "We'll start with three deep learning models that use their own trained embedding layer, and then try two algorithms that use pre-trained embeddings."
      ]
    },
    {
      "cell_type": "code",
      "metadata": {
        "id": "V89v0Dw5_vc-",
        "colab_type": "code",
        "colab": {}
      },
      "source": [
        "from keras import initializers, regularizers, constraints, optimizers, layers\n",
        "from keras.models import Model, Input, Sequential\n",
        "from keras.layers import Dense, Input, LSTM, Embedding, Dropout, SpatialDropout1D, Activation\n",
        "from keras.layers import Conv1D, Bidirectional, GlobalMaxPool1D, MaxPooling1D, BatchNormalization\n",
        "from keras.optimizers import Adam"
      ],
      "execution_count": 0,
      "outputs": []
    },
    {
      "cell_type": "code",
      "metadata": {
        "id": "2aOScPjp_1R2",
        "colab_type": "code",
        "colab": {}
      },
      "source": [
        "max_features = 20000 \n",
        "\n",
        "# max number of words in a comment to use (or: number of columns in incoming embedding vector)\n",
        "max_len = 200 \n",
        "\n",
        "# dimension of the embedding variable (or: number of rows in output of embedding vector)\n",
        "embedding_dims = 128"
      ],
      "execution_count": 0,
      "outputs": []
    },
    {
      "cell_type": "markdown",
      "metadata": {
        "id": "odhQYfPd_62p",
        "colab_type": "text"
      },
      "source": [
        "Baseline Neural Network"
      ]
    },
    {
      "cell_type": "markdown",
      "metadata": {
        "id": "xy5VAC15_8EY",
        "colab_type": "text"
      },
      "source": [
        "Let's start with instantiating a classic densely connected neural network to create a strong baseline. It's composed of several layers:\n",
        "\n",
        "The input layer  is the first layer in the neural network. It takes input values and passes them on to the next layer without applying any operations to them. We begin by defining an input layer that accepts a list of words with a dimension of 200 (= max words in one comment).\n",
        "\n",
        "Next, we pass our vectors to an embedding layer, where we project the words onto a defined vector space depending on the distance of the surrounding words in a sentence. Embedding allows us to reduce model size, and most importantly the huge dimensions we have to deal with.\n",
        "\n",
        "The output of the embedding layer is just a list of the coordinates of the words in this vector space. We need to define the size of this vector space and the number of unique words we are using. It's important to know that the embedding size is a parameter that one can tune and experiment with.\n",
        "\n",
        "A pooling layer effectively downsamples the output of the prior layer, reducing the number of operations required for all following layers, but still passing on the valid information from the previous layer.\n",
        "\n",
        "Dense layers (or fully connected layers) are simply a linear operation in which every input is connected to every output by a weight, generally followed by a non-linear activation function.\n",
        "\n",
        "Regularization  layers are used to overcome the over-fitting problem. In regularization we either penalise our loss term by adding a L1 (LASSO) or an L2 (Ridge) norm on the weight vector. Alternatively, we can apply a dropout layer where individual nodes are dropped out of the net, so that a reduced network is left.\n",
        "\n",
        "Finally, the output layer  is the last layer in the network and receives its input from the last hidden layer. With this layer we can get the desired number of values in a desired range. In our network we have 6 neurons in the output layer.\n",
        "\n",
        "Activation functions are used to introduce non-linearity to neural networks. They squash the values into a smaller range. There are many activation functions used in the deep learning industry such as ReLU, Sigmoid or TanH."
      ]
    },
    {
      "cell_type": "code",
      "metadata": {
        "id": "uW2H8JN5AB7H",
        "colab_type": "code",
        "outputId": "4cfcae64-5bd9-4f1a-a7c7-658723ea9041",
        "colab": {
          "base_uri": "https://localhost:8080/",
          "height": 139
        }
      },
      "source": [
        "# instantiate NN model\n",
        "base_model = Sequential()\n",
        "\n",
        "# add embedding layer \n",
        "base_model.add(Embedding(input_dim=max_features, input_length=max_len,\n",
        "                         output_dim=embedding_dims))\n",
        "\n",
        "# add pooling layer \n",
        "# ... which will extract features from the embeddings of all words in the comment\n",
        "base_model.add(GlobalMaxPool1D())\n",
        "\n",
        "# add dense layer to produce an output dimension of 50 and apply relu activation\n",
        "base_model.add(Dense(50, activation='relu'))\n",
        "\n",
        "# set the regularizing dropout layer to drop out 30% of the nodes\n",
        "base_model.add(Dropout(0.3))\n",
        "\n",
        "# finally add a dense layer\n",
        "# ... which projects output into six units and squash it with sigmoid activation\n",
        "base_model.add(Dense(6, activation='sigmoid'))"
      ],
      "execution_count": 0,
      "outputs": [
        {
          "output_type": "stream",
          "text": [
            "WARNING:tensorflow:From /usr/local/lib/python3.6/dist-packages/tensorflow/python/framework/op_def_library.py:263: colocate_with (from tensorflow.python.framework.ops) is deprecated and will be removed in a future version.\n",
            "Instructions for updating:\n",
            "Colocations handled automatically by placer.\n",
            "WARNING:tensorflow:From /usr/local/lib/python3.6/dist-packages/keras/backend/tensorflow_backend.py:3445: calling dropout (from tensorflow.python.ops.nn_ops) with keep_prob is deprecated and will be removed in a future version.\n",
            "Instructions for updating:\n",
            "Please use `rate` instead of `keep_prob`. Rate should be set to `rate = 1 - keep_prob`.\n"
          ],
          "name": "stdout"
        }
      ]
    },
    {
      "cell_type": "markdown",
      "metadata": {
        "id": "YS9vhjl-AJvL",
        "colab_type": "text"
      },
      "source": [
        "Next, we compile the network:\n",
        "\n",
        "The loss function computes the error for a single training example. The cost function is the average of the loss functions of the entire training set. Our choice here is categorical_crossentropy, i.e. a multi-class logarithmic loss.\n",
        "When we train neural networks, we usually use Gradient Descent to optimize the weights. At each iteration, we use back-propagation to calculate the derivative of the loss function with respect to each weight and subtract it from that weight. The learning rate determines how quickly or how slowly we want to update our weight values. It should be just high enough to take an acceptable time to converge, and just low enough to be capable of finding the local minima.\n",
        "The optimizer is a search technique, which is used to update weights in the model. Our choice here is Adaptive Moment Estimation (Adam) which uses adaptive learning rates.\n",
        "Performance metrics are used to measure the performance of the neural network. Accuracy, loss, validation accuracy, validation loss, mean absolute error, precision, recall and f1 score are some performance metrics. Our choice here is accuracy."
      ]
    },
    {
      "cell_type": "code",
      "metadata": {
        "id": "6_yAsM-AAOXM",
        "colab_type": "code",
        "outputId": "e0071c33-6e8f-485f-ad0e-6d91519b2c21",
        "colab": {
          "base_uri": "https://localhost:8080/",
          "height": 306
        }
      },
      "source": [
        "base_model.compile(loss='binary_crossentropy',\n",
        "                   optimizer=Adam(0.01), metrics=['accuracy'])\n",
        "\n",
        "# check the model with all our layers\n",
        "base_model.summary()"
      ],
      "execution_count": 0,
      "outputs": [
        {
          "output_type": "stream",
          "text": [
            "_________________________________________________________________\n",
            "Layer (type)                 Output Shape              Param #   \n",
            "=================================================================\n",
            "embedding_1 (Embedding)      (None, 200, 128)          2560000   \n",
            "_________________________________________________________________\n",
            "global_max_pooling1d_1 (Glob (None, 128)               0         \n",
            "_________________________________________________________________\n",
            "dense_1 (Dense)              (None, 50)                6450      \n",
            "_________________________________________________________________\n",
            "dropout_1 (Dropout)          (None, 50)                0         \n",
            "_________________________________________________________________\n",
            "dense_2 (Dense)              (None, 6)                 306       \n",
            "=================================================================\n",
            "Total params: 2,566,756\n",
            "Trainable params: 2,566,756\n",
            "Non-trainable params: 0\n",
            "_________________________________________________________________\n"
          ],
          "name": "stdout"
        }
      ]
    },
    {
      "cell_type": "code",
      "metadata": {
        "id": "lgV9cpzDAXgX",
        "colab_type": "code",
        "colab": {}
      },
      "source": [
        ""
      ],
      "execution_count": 0,
      "outputs": []
    },
    {
      "cell_type": "markdown",
      "metadata": {
        "id": "GHGbTeWjAajW",
        "colab_type": "text"
      },
      "source": [
        "Finally, we train the network with some parameters:\n",
        "\n",
        "The batch size is the number of training examples in one forward/backward pass. In general, larger batch sizes result in faster progress in training, but don't always converge as quickly. Smaller batch sizes train slower, but can converge faster. And the higher the batch size, the more memory space you’ll need.\n",
        "\n",
        "The training epochs  are the number of times that the model is exposed to the training dataset. One epoch equals one forward pass and one backward pass of all the training examples. In general, the models improve with more epochs of training, to a point. They'll start to plateau in accuracy as they converge."
      ]
    },
    {
      "cell_type": "code",
      "metadata": {
        "id": "XrZHZKfeAbrk",
        "colab_type": "code",
        "outputId": "1d96a5ac-f52b-4bfc-8c18-e602dc25cc3a",
        "colab": {
          "base_uri": "https://localhost:8080/",
          "height": 258
        }
      },
      "source": [
        "base_hist = base_model.fit(X_train, y_train, batch_size=32, \n",
        "                           epochs=3, validation_split=0.1)"
      ],
      "execution_count": 0,
      "outputs": [
        {
          "output_type": "stream",
          "text": [
            "WARNING:tensorflow:From /usr/local/lib/python3.6/dist-packages/tensorflow/python/ops/math_ops.py:3066: to_int32 (from tensorflow.python.ops.math_ops) is deprecated and will be removed in a future version.\n",
            "Instructions for updating:\n",
            "Use tf.cast instead.\n",
            "WARNING:tensorflow:From /usr/local/lib/python3.6/dist-packages/tensorflow/python/ops/math_grad.py:102: div (from tensorflow.python.ops.math_ops) is deprecated and will be removed in a future version.\n",
            "Instructions for updating:\n",
            "Deprecated in favor of operator or tf.math.divide.\n",
            "Train on 143613 samples, validate on 15958 samples\n",
            "Epoch 1/3\n",
            "143613/143613 [==============================] - 243s 2ms/step - loss: 0.0657 - acc: 0.9781 - val_loss: 0.0555 - val_acc: 0.9797\n",
            "Epoch 2/3\n",
            "143613/143613 [==============================] - 240s 2ms/step - loss: 0.0549 - acc: 0.9800 - val_loss: 0.0585 - val_acc: 0.9783\n",
            "Epoch 3/3\n",
            "143613/143613 [==============================] - 239s 2ms/step - loss: 0.0526 - acc: 0.9803 - val_loss: 0.0649 - val_acc: 0.9809\n"
          ],
          "name": "stdout"
        }
      ]
    },
    {
      "cell_type": "code",
      "metadata": {
        "id": "JknSxdpliban",
        "colab_type": "code",
        "outputId": "f32cfdd6-42d1-45b7-a525-91c8a5a7b729",
        "colab": {
          "base_uri": "https://localhost:8080/",
          "height": 34
        }
      },
      "source": [
        "print(base_hist.history.keys())"
      ],
      "execution_count": 0,
      "outputs": [
        {
          "output_type": "stream",
          "text": [
            "dict_keys(['val_loss', 'val_acc', 'loss', 'acc'])\n"
          ],
          "name": "stdout"
        }
      ]
    },
    {
      "cell_type": "code",
      "metadata": {
        "id": "Bdx6vN7MyFBB",
        "colab_type": "code",
        "colab": {}
      },
      "source": [
        ""
      ],
      "execution_count": 0,
      "outputs": []
    },
    {
      "cell_type": "code",
      "metadata": {
        "id": "Ih47e943iU9Q",
        "colab_type": "code",
        "outputId": "2a2e7252-a112-4af6-e5f8-9a53daa0f786",
        "colab": {
          "base_uri": "https://localhost:8080/",
          "height": 376
        }
      },
      "source": [
        "\n",
        "#  \"Accuracy\"\n",
        "plt.plot(base_hist.history['acc'])\n",
        "plt.plot(base_hist.history['val_acc'])\n",
        "plt.title('model accuracy')\n",
        "plt.ylabel('accuracy')\n",
        "plt.xlabel('epoch')\n",
        "plt.legend(['train', 'validation'], loc='upper left')\n",
        "plt.show()\n"
      ],
      "execution_count": 0,
      "outputs": [
        {
          "output_type": "display_data",
          "data": {
            "image/png": "[encoded data removed]",
            "text/plain": [
              "<Figure size 576x396 with 1 Axes>"
            ]
          },
          "metadata": {
            "tags": []
          }
        }
      ]
    },
    {
      "cell_type": "code",
      "metadata": {
        "id": "7liZx376iV1b",
        "colab_type": "code",
        "outputId": "85fffc43-7f63-436f-bbdf-7736716d4178",
        "colab": {
          "base_uri": "https://localhost:8080/",
          "height": 376
        }
      },
      "source": [
        "# \"Loss\"\n",
        "plt.plot(base_hist.history['loss'])\n",
        "plt.plot(base_hist.history['val_loss'])\n",
        "plt.title('model loss')\n",
        "plt.ylabel('loss')\n",
        "plt.xlabel('epoch')\n",
        "plt.legend(['train', 'validation'], loc='upper left')\n",
        "plt.show()"
      ],
      "execution_count": 0,
      "outputs": [
        {
          "output_type": "display_data",
          "data": {
            "image/png": "[encoded data removed]",
            "text/plain": [
              "<Figure size 576x396 with 1 Axes>"
            ]
          },
          "metadata": {
            "tags": []
          }
        }
      ]
    },
    {
      "cell_type": "markdown",
      "metadata": {
        "id": "3SkQKR00AjFE",
        "colab_type": "text"
      },
      "source": [
        "Seems that the accuracy is pretty decent for a basic attempt!"
      ]
    },
    {
      "cell_type": "code",
      "metadata": {
        "id": "jJ_O3Pf1AkHH",
        "colab_type": "code",
        "outputId": "6ee61e8d-e57e-4d24-ba42-fb1088775425",
        "colab": {
          "base_uri": "https://localhost:8080/",
          "height": 68
        }
      },
      "source": [
        "# evaluate the algorithm on the test dataset\n",
        "base_test_loss, base_test_auc = base_model.evaluate(X_test, y_test, batch_size=32)\n",
        "print('Test Loss:    ', base_test_loss)\n",
        "print('Test Accuracy:', base_test_auc)"
      ],
      "execution_count": 0,
      "outputs": [
        {
          "output_type": "stream",
          "text": [
            "63978/63978 [==============================] - 3s 46us/step\n",
            "Test Loss:     0.07868262833659653\n",
            "Test Accuracy: 0.9715865740756982\n"
          ],
          "name": "stdout"
        }
      ]
    },
    {
      "cell_type": "markdown",
      "metadata": {
        "id": "OWwONnPzAs4D",
        "colab_type": "text"
      },
      "source": [
        "Convolutional Neural Network (CNN)"
      ]
    },
    {
      "cell_type": "markdown",
      "metadata": {
        "id": "clmuzkZAAuId",
        "colab_type": "text"
      },
      "source": [
        "Convolutional neural networks (CNN's) recently proved to be very effective at document classification, namely because they are able to pick out salient features (e.g. tokens or sequences of tokens) in a way that is invariant to their position within the input sequences. Simply put, a convolution is a sliding window function applied to a matrix. To set up a CNN, we have to add a convolutional layer:\n",
        "\n",
        "A convolutional layer consists of a set of “filters”. These filters only take in a subset of the input data at a given time, but are applied across the full input by sweeping over it. The operations performed here are still linear, but they are generally followed by a non-linear activation function.\n",
        "Furthermore, I took a piece of advice I found here.: \"As many competitors pointed out, dropout and batch-normalization are the keys to prevent overfitting and dropout did a better job. By applying the dropout on the word embedding directly and behind the pooling does great regularization both on train set and test set. \"\n",
        "\n",
        "A batch normalization layer normalizes the activations of the previous layer at each batch, i.e. applies a transformation that maintains the mean activation close to 0 and the activation standard deviation close to 1. It will be added after the activation function between a convolutional and a max-pooling layer. This website provides great advice for implementing such a layer."
      ]
    },
    {
      "cell_type": "code",
      "metadata": {
        "id": "UlSFQy3mAx5Y",
        "colab_type": "code",
        "colab": {}
      },
      "source": [
        "# instantiate CNN model\n",
        "cnn_model = Sequential()\n",
        "\n",
        "# add embedding layer \n",
        "cnn_model.add(Embedding(input_dim=max_features, input_length=max_len,\n",
        "                        output_dim=embedding_dims))\n",
        " \n",
        "# set the dropout layer to drop out 50% of the nodes\n",
        "cnn_model.add(SpatialDropout1D(0.5))\n",
        "\n",
        "# add convolutional layer that has ...\n",
        "# ... 100 filters with a kernel size of 4 so that each convolution will consider a window of 4 word embeddings\n",
        "cnn_model.add(Conv1D(filters=100, kernel_size=4, padding='same', activation='relu'))\n",
        "\n",
        "# add normalization layer\n",
        "cnn_model.add(BatchNormalization())\n",
        "\n",
        "# add pooling layer \n",
        "cnn_model.add(GlobalMaxPool1D())\n",
        "\n",
        "# set the dropout layer to drop out 50% of the nodes\n",
        "cnn_model.add(Dropout(0.5))\n",
        "\n",
        "# add dense layer to produce an output dimension of 50 and using relu activation\n",
        "cnn_model.add(Dense(50, activation='relu'))\n",
        "\n",
        "# finally add a dense layer\n",
        "cnn_model.add(Dense(6, activation='sigmoid'))"
      ],
      "execution_count": 0,
      "outputs": []
    },
    {
      "cell_type": "code",
      "metadata": {
        "id": "Alwf1H3mA8ee",
        "colab_type": "code",
        "outputId": "97baa23d-6012-4a0d-908b-4f3c8a3629ee",
        "colab": {
          "base_uri": "https://localhost:8080/",
          "height": 408
        }
      },
      "source": [
        "cnn_model.compile(loss='binary_crossentropy',\n",
        "                  optimizer=Adam(0.01),\n",
        "                  metrics=['accuracy'])\n",
        "\n",
        "cnn_model.summary()"
      ],
      "execution_count": 0,
      "outputs": [
        {
          "output_type": "stream",
          "text": [
            "_________________________________________________________________\n",
            "Layer (type)                 Output Shape              Param #   \n",
            "=================================================================\n",
            "embedding_2 (Embedding)      (None, 200, 128)          2560000   \n",
            "_________________________________________________________________\n",
            "spatial_dropout1d_1 (Spatial (None, 200, 128)          0         \n",
            "_________________________________________________________________\n",
            "conv1d_1 (Conv1D)            (None, 200, 100)          51300     \n",
            "_________________________________________________________________\n",
            "batch_normalization_1 (Batch (None, 200, 100)          400       \n",
            "_________________________________________________________________\n",
            "global_max_pooling1d_2 (Glob (None, 100)               0         \n",
            "_________________________________________________________________\n",
            "dropout_2 (Dropout)          (None, 100)               0         \n",
            "_________________________________________________________________\n",
            "dense_3 (Dense)              (None, 50)                5050      \n",
            "_________________________________________________________________\n",
            "dense_4 (Dense)              (None, 6)                 306       \n",
            "=================================================================\n",
            "Total params: 2,617,056\n",
            "Trainable params: 2,616,856\n",
            "Non-trainable params: 200\n",
            "_________________________________________________________________\n"
          ],
          "name": "stdout"
        }
      ]
    },
    {
      "cell_type": "code",
      "metadata": {
        "id": "pCmM8ZadBAsP",
        "colab_type": "code",
        "outputId": "dfc63b07-5a63-4d15-d143-2312d4b0cc0e",
        "colab": {
          "base_uri": "https://localhost:8080/",
          "height": 136
        }
      },
      "source": [
        "cnn_hist = cnn_model.fit(X_train, y_train, batch_size=32, \n",
        "                         epochs=3, validation_split=0.1)"
      ],
      "execution_count": 0,
      "outputs": [
        {
          "output_type": "stream",
          "text": [
            "Train on 143613 samples, validate on 15958 samples\n",
            "Epoch 1/3\n",
            "143613/143613 [==============================] - 502s 3ms/step - loss: 0.0756 - acc: 0.9753 - val_loss: 0.0572 - val_acc: 0.9797\n",
            "Epoch 2/3\n",
            "143613/143613 [==============================] - 501s 3ms/step - loss: 0.0573 - acc: 0.9798 - val_loss: 0.0622 - val_acc: 0.9800\n",
            "Epoch 3/3\n",
            "143613/143613 [==============================] - 498s 3ms/step - loss: 0.0542 - acc: 0.9805 - val_loss: 0.0549 - val_acc: 0.9808\n"
          ],
          "name": "stdout"
        }
      ]
    },
    {
      "cell_type": "code",
      "metadata": {
        "id": "uIgvWFL8_55T",
        "colab_type": "code",
        "outputId": "c8fc086a-de84-45de-9c1f-6f1dcb4dfa9a",
        "colab": {
          "base_uri": "https://localhost:8080/",
          "height": 376
        }
      },
      "source": [
        "#  \"Accuracy\"\n",
        "plt.plot(cnn_hist.history['acc'])\n",
        "plt.plot(cnn_hist.history['val_acc'])\n",
        "plt.title('model accuracy')\n",
        "plt.ylabel('accuracy')\n",
        "plt.xlabel('epoch')\n",
        "plt.legend(['train', 'validation'], loc='upper left')\n",
        "plt.show()"
      ],
      "execution_count": 0,
      "outputs": [
        {
          "output_type": "display_data",
          "data": {
            "image/png": "[encoded data removed]",
            "text/plain": [
              "<Figure size 576x396 with 1 Axes>"
            ]
          },
          "metadata": {
            "tags": []
          }
        }
      ]
    },
    {
      "cell_type": "code",
      "metadata": {
        "id": "BlTl1kG4ADN6",
        "colab_type": "code",
        "outputId": "15a6aa27-cf27-47cf-ad6c-af83163d5e90",
        "colab": {
          "base_uri": "https://localhost:8080/",
          "height": 376
        }
      },
      "source": [
        "# \"Loss\"\n",
        "plt.plot(cnn_hist.history['loss'])\n",
        "plt.plot(cnn_hist.history['val_loss'])\n",
        "plt.title('model loss')\n",
        "plt.ylabel('loss')\n",
        "plt.xlabel('epoch')\n",
        "plt.legend(['train', 'validation'], loc='upper left')\n",
        "plt.show()"
      ],
      "execution_count": 0,
      "outputs": [
        {
          "output_type": "display_data",
          "data": {
            "image/png": "[encoded data removed]",
            "text/plain": [
              "<Figure size 576x396 with 1 Axes>"
            ]
          },
          "metadata": {
            "tags": []
          }
        }
      ]
    },
    {
      "cell_type": "markdown",
      "metadata": {
        "id": "VDl34-FTBFUD",
        "colab_type": "text"
      },
      "source": [
        "Well, the validation accuracy is 0.02% worse than in our basic neural network.\n",
        "\n",
        "As a side note: I first ran this algorithm without batch normalization and had a training accuracy of 0.9736 and a validation accuracy of 0.9748. Now, with batch normalization, both training and validation accuracy have increased slightly - to 0.9807 and 0.9805 respectively!"
      ]
    },
    {
      "cell_type": "code",
      "metadata": {
        "id": "1JmlqNW7BJxF",
        "colab_type": "code",
        "outputId": "48bc5b4b-7a65-4653-b5d1-e081527e0362",
        "colab": {
          "base_uri": "https://localhost:8080/",
          "height": 68
        }
      },
      "source": [
        "cnn_test_loss, cnn_test_auc = cnn_model.evaluate(X_test, y_test, batch_size=32)\n",
        "print('Test Loss:    ', cnn_test_loss)\n",
        "print('Test Accuracy:', cnn_test_auc)"
      ],
      "execution_count": 0,
      "outputs": [
        {
          "output_type": "stream",
          "text": [
            "63978/63978 [==============================] - 46s 721us/step\n",
            "Test Loss:     0.07565957289788262\n",
            "Test Accuracy: 0.970638333308946\n"
          ],
          "name": "stdout"
        }
      ]
    },
    {
      "cell_type": "markdown",
      "metadata": {
        "id": "Pp7UbFE6BRYQ",
        "colab_type": "text"
      },
      "source": [
        "Recurrent Neural Network (RNN)"
      ]
    },
    {
      "cell_type": "markdown",
      "metadata": {
        "id": "dT9SHBzfBVcG",
        "colab_type": "text"
      },
      "source": [
        "Recurrent Neural Networks (RNNs) are popular models that have shown great promise in many NLP tasks. The idea behind RNNs is to make use of sequential information. In a traditional neural network we assume that all inputs (and outputs) are independent of each other. But for many tasks, that’s a very bad idea. If you want to predict the next word in a sentence, you had better know which words came before it. RNNs are called recurrent because they perform the same task for every element of a sequence, with the output being dependent on the previous computations. \n",
        "Another way to think about RNNs is that they have a “memory” which captures information about what has been calculated so far. In theory, RNNs can make use of information in arbitrarily long sequences, but in practice they are limited to looking back only a few steps.\n",
        "\n",
        "Bidirectional RNNs are based on the idea that the output at a given point in time may not only depend on the previous elements in the sequence, but also future elements. For example, to predict a missing word in a sequence you will want to look at the context on both the left and the right. \n",
        "Bidirectional RNNs are quite simple. They are just two RNNs stacked on top of each other with a twist: half of the neurons start at the beginning of the data and work towards the end one step at a time, while the other half start at the end of the data and work towards the beginning at the same pace."
      ]
    },
    {
      "cell_type": "code",
      "metadata": {
        "id": "6EI6Se8OBXm8",
        "colab_type": "code",
        "colab": {}
      },
      "source": [
        "# instantiate RNN model\n",
        "rnn_model = Sequential()\n",
        "\n",
        "# add embedding layer \n",
        "rnn_model.add(Embedding(input_dim=max_features, input_length=max_len,\n",
        "                        output_dim=embedding_dims))\n",
        "\n",
        "# set the dropout layer to drop out 50% of the nodes\n",
        "rnn_model.add(SpatialDropout1D(0.5))\n",
        "\n",
        "# add bidirectional layer and pass in an LSTM()\n",
        "rnn_model.add(Bidirectional(LSTM(25, return_sequences=True)))\n",
        "\n",
        "# add normalization layer\n",
        "rnn_model.add(BatchNormalization())\n",
        "\n",
        "# add pooling layer \n",
        "rnn_model.add(GlobalMaxPool1D())\n",
        "\n",
        "# set the dropout layer to drop out 50% of the nodes\n",
        "rnn_model.add(Dropout(0.5))\n",
        "\n",
        "# add dense layer to produce an output dimension of 50 and using relu activation\n",
        "rnn_model.add(Dense(50, activation='relu'))\n",
        "\n",
        "# finally add a dense layer\n",
        "rnn_model.add(Dense(6, activation='sigmoid'))"
      ],
      "execution_count": 0,
      "outputs": []
    },
    {
      "cell_type": "code",
      "metadata": {
        "id": "B4R8av1pBQKn",
        "colab_type": "code",
        "outputId": "1cc1db21-3a31-4f40-8115-9ab1eb426c26",
        "colab": {
          "base_uri": "https://localhost:8080/",
          "height": 408
        }
      },
      "source": [
        "rnn_model.compile(loss='binary_crossentropy',\n",
        "                  optimizer=Adam(0.01),\n",
        "                  metrics=['accuracy'])\n",
        "\n",
        "rnn_model.summary()"
      ],
      "execution_count": 0,
      "outputs": [
        {
          "output_type": "stream",
          "text": [
            "_________________________________________________________________\n",
            "Layer (type)                 Output Shape              Param #   \n",
            "=================================================================\n",
            "embedding_3 (Embedding)      (None, 200, 128)          2560000   \n",
            "_________________________________________________________________\n",
            "spatial_dropout1d_2 (Spatial (None, 200, 128)          0         \n",
            "_________________________________________________________________\n",
            "bidirectional_1 (Bidirection (None, 200, 50)           30800     \n",
            "_________________________________________________________________\n",
            "batch_normalization_2 (Batch (None, 200, 50)           200       \n",
            "_________________________________________________________________\n",
            "global_max_pooling1d_3 (Glob (None, 50)                0         \n",
            "_________________________________________________________________\n",
            "dropout_3 (Dropout)          (None, 50)                0         \n",
            "_________________________________________________________________\n",
            "dense_5 (Dense)              (None, 50)                2550      \n",
            "_________________________________________________________________\n",
            "dense_6 (Dense)              (None, 6)                 306       \n",
            "=================================================================\n",
            "Total params: 2,593,856\n",
            "Trainable params: 2,593,756\n",
            "Non-trainable params: 100\n",
            "_________________________________________________________________\n"
          ],
          "name": "stdout"
        }
      ]
    },
    {
      "cell_type": "code",
      "metadata": {
        "id": "disIY9mpHuPr",
        "colab_type": "code",
        "outputId": "39065e08-0f66-43d7-8694-caebbc80b11b",
        "colab": {
          "base_uri": "https://localhost:8080/",
          "height": 136
        }
      },
      "source": [
        "rnn_hist = rnn_model.fit(X_train, y_train, batch_size=32, \n",
        "                          epochs=3, validation_split=0.2)"
      ],
      "execution_count": 0,
      "outputs": [
        {
          "output_type": "stream",
          "text": [
            "Train on 127656 samples, validate on 31915 samples\n",
            "Epoch 1/3\n",
            "127656/127656 [==============================] - 1235s 10ms/step - loss: 0.0732 - acc: 0.9758 - val_loss: 0.0570 - val_acc: 0.9809\n",
            "Epoch 2/3\n",
            "127656/127656 [==============================] - 1223s 10ms/step - loss: 0.0632 - acc: 0.9783 - val_loss: 0.0560 - val_acc: 0.9808\n",
            "Epoch 3/3\n",
            "127656/127656 [==============================] - 1225s 10ms/step - loss: 0.0631 - acc: 0.9783 - val_loss: 0.0569 - val_acc: 0.9806\n"
          ],
          "name": "stdout"
        }
      ]
    },
    {
      "cell_type": "markdown",
      "metadata": {
        "id": "fNznFaAXBqYh",
        "colab_type": "text"
      },
      "source": [
        "We face a slight increase in validation accuracy!"
      ]
    },
    {
      "cell_type": "code",
      "metadata": {
        "id": "7zRRIZFEKLHD",
        "colab_type": "code",
        "outputId": "4f9a78cc-bd7c-4588-fd94-14ef443f1c7e",
        "colab": {
          "base_uri": "https://localhost:8080/",
          "height": 376
        }
      },
      "source": [
        "#  \"Accuracy\"\n",
        "plt.plot(rnn_hist.history['acc'])\n",
        "plt.plot(rnn_hist.history['val_acc'])\n",
        "plt.title('model accuracy')\n",
        "plt.ylabel('accuracy')\n",
        "plt.xlabel('epoch')\n",
        "plt.legend(['train', 'validation'], loc='upper left')\n",
        "plt.show()"
      ],
      "execution_count": 0,
      "outputs": [
        {
          "output_type": "display_data",
          "data": {
            "image/png": "[encoded data removed]",
            "text/plain": [
              "<Figure size 576x396 with 1 Axes>"
            ]
          },
          "metadata": {
            "tags": []
          }
        }
      ]
    },
    {
      "cell_type": "code",
      "metadata": {
        "id": "p7P4LkmFKSDm",
        "colab_type": "code",
        "outputId": "5fdcf428-d479-415d-d6f0-b51ddf4809e5",
        "colab": {
          "base_uri": "https://localhost:8080/",
          "height": 376
        }
      },
      "source": [
        "# \"Loss\"\n",
        "plt.plot(rnn_hist.history['loss'])\n",
        "plt.plot(rnn_hist.history['val_loss'])\n",
        "plt.title('model loss')\n",
        "plt.ylabel('loss')\n",
        "plt.xlabel('epoch')\n",
        "plt.legend(['train', 'validation'], loc='upper left')\n",
        "plt.show()"
      ],
      "execution_count": 0,
      "outputs": [
        {
          "output_type": "display_data",
          "data": {
            "image/png": "[encoded data removed]",
            "text/plain": [
              "<Figure size 576x396 with 1 Axes>"
            ]
          },
          "metadata": {
            "tags": []
          }
        }
      ]
    },
    {
      "cell_type": "code",
      "metadata": {
        "id": "mQe3D59fBrEc",
        "colab_type": "code",
        "outputId": "3f72c288-9f6b-44a7-8784-ce222cf41226",
        "colab": {
          "base_uri": "https://localhost:8080/",
          "height": 68
        }
      },
      "source": [
        "rnn_test_loss, rnn_test_auc = rnn_model.evaluate(X_test, y_test, batch_size=32)\n",
        "print('Test Loss:    ', rnn_test_loss)\n",
        "print('Test Accuracy:', rnn_test_auc)"
      ],
      "execution_count": 0,
      "outputs": [
        {
          "output_type": "stream",
          "text": [
            "63978/63978 [==============================] - 125s 2ms/step\n",
            "Test Loss:     0.07348328677140194\n",
            "Test Accuracy: 0.9717533004288004\n"
          ],
          "name": "stdout"
        }
      ]
    },
    {
      "cell_type": "markdown",
      "metadata": {
        "id": "PskDE2lIBxZQ",
        "colab_type": "text"
      },
      "source": [
        "CNN with Pre-Trained GloVe Embedding"
      ]
    },
    {
      "cell_type": "markdown",
      "metadata": {
        "id": "6Ec8j2kUB165",
        "colab_type": "text"
      },
      "source": [
        "Making use of weights from a Word2Vec model that has been trained for a very long time on a massive amount of text data might be a good way to improve the performance of text classification. With deep learning, more data is almost always the single best way that to improve a model's performance - and the embedded word vectors created by a Word2Vec model are no exception. For this reason, it's a good idea to load one of the top-tier, industry-standard models that has been open sourced for this exact purpose.\n",
        "\n",
        "Let's now explore the other way to add an embedding layer to our neural network by using a pre-trained embedding layer. We'll go with the GloVe method, first with a CNN and eventually an RNN."
      ]
    },
    {
      "cell_type": "code",
      "metadata": {
        "id": "CrMF2WUXByb8",
        "colab_type": "code",
        "outputId": "710b13bf-9343-44c7-b747-fcb8619a5c1e",
        "colab": {
          "base_uri": "https://localhost:8080/",
          "height": 34
        }
      },
      "source": [
        "# load the glove6B embedding\n",
        "\n",
        "embeddings_index = dict()\n",
        "f = open('/content/data/glove.6B.300d.txt')\n",
        "\n",
        "for line in f:\n",
        "    # Note: use split(' ') instead of split() if you get an error\n",
        "    values = line.split(' ')\n",
        "    word = values[0]\n",
        "    coefs = np.asarray(values[1:], dtype='float32')\n",
        "    embeddings_index[word] = coefs\n",
        "f.close()\n",
        "\n",
        "print('Loaded %s word vectors.' % len(embeddings_index))"
      ],
      "execution_count": 0,
      "outputs": [
        {
          "output_type": "stream",
          "text": [
            "Loaded 400000 word vectors.\n"
          ],
          "name": "stdout"
        }
      ]
    },
    {
      "cell_type": "markdown",
      "metadata": {
        "id": "lgGg_NoLul9d",
        "colab_type": "text"
      },
      "source": [
        ""
      ]
    },
    {
      "cell_type": "code",
      "metadata": {
        "id": "eO6AsXw0DCcs",
        "colab_type": "code",
        "colab": {}
      },
      "source": [
        "# create a weight matrix\n",
        "embedding_matrix = np.zeros((len(tokenizer.word_index)+1, 300))\n",
        "\n",
        "for word, i in tokenizer.word_index.items():\n",
        "    embedding_vector = embeddings_index.get(word)\n",
        "    if embedding_vector is not None:\n",
        "        embedding_matrix[i] = embedding_vector"
      ],
      "execution_count": 0,
      "outputs": []
    },
    {
      "cell_type": "markdown",
      "metadata": {
        "id": "AQ3sv12VDF1C",
        "colab_type": "text"
      },
      "source": [
        "A pretrained embedding requires the arguments weights=embedding_matrix as well as trainable=False to freeze the weights."
      ]
    },
    {
      "cell_type": "code",
      "metadata": {
        "id": "MuqJwtbgDGZx",
        "colab_type": "code",
        "colab": {}
      },
      "source": [
        "# instantiate pretrained glove model\n",
        "glove_model = Sequential()\n",
        "\n",
        "# add embedding layer \n",
        "glove_model.add(Embedding(input_dim =embedding_matrix.shape[0], input_length=max_len,\n",
        "                          output_dim=embedding_matrix.shape[1], \n",
        "                          weights=[embedding_matrix], trainable=False))\n",
        " \n",
        "# set the dropout layer to drop out 50% of the nodes\n",
        "glove_model.add(SpatialDropout1D(0.5))\n",
        "\n",
        "# add convolutional layer that has ...\n",
        "# ... 100 filters with a kernel size of 4 so that each convolution will consider a window of 4 word embeddings\n",
        "glove_model.add(Conv1D(filters=100, kernel_size=4, padding='same', activation='relu'))\n",
        "\n",
        "# add normalization layer\n",
        "glove_model.add(BatchNormalization())\n",
        "\n",
        "# add pooling layer \n",
        "glove_model.add(GlobalMaxPool1D())\n",
        "\n",
        "# set the dropout layer to drop out 50% of the nodes\n",
        "glove_model.add(Dropout(0.5))\n",
        "\n",
        "# add dense layer to produce an output dimension of 50 and using relu activation\n",
        "glove_model.add(Dense(50, activation='relu'))\n",
        "\n",
        "# finally add a dense layer\n",
        "glove_model.add(Dense(6, activation='sigmoid'))\n"
      ],
      "execution_count": 0,
      "outputs": []
    },
    {
      "cell_type": "code",
      "metadata": {
        "id": "zm--W2yADPtf",
        "colab_type": "code",
        "outputId": "e2b7a49f-558e-49ad-b0e9-00f548312caa",
        "colab": {
          "base_uri": "https://localhost:8080/",
          "height": 408
        }
      },
      "source": [
        "glove_model.compile(loss='binary_crossentropy',\n",
        "                    optimizer=Adam(0.01),\n",
        "                    metrics=['accuracy'])\n",
        "\n",
        "glove_model.summary()"
      ],
      "execution_count": 0,
      "outputs": [
        {
          "output_type": "stream",
          "text": [
            "_________________________________________________________________\n",
            "Layer (type)                 Output Shape              Param #   \n",
            "=================================================================\n",
            "embedding_4 (Embedding)      (None, 200, 300)          63101400  \n",
            "_________________________________________________________________\n",
            "spatial_dropout1d_3 (Spatial (None, 200, 300)          0         \n",
            "_________________________________________________________________\n",
            "conv1d_2 (Conv1D)            (None, 200, 100)          120100    \n",
            "_________________________________________________________________\n",
            "batch_normalization_3 (Batch (None, 200, 100)          400       \n",
            "_________________________________________________________________\n",
            "global_max_pooling1d_4 (Glob (None, 100)               0         \n",
            "_________________________________________________________________\n",
            "dropout_4 (Dropout)          (None, 100)               0         \n",
            "_________________________________________________________________\n",
            "dense_7 (Dense)              (None, 50)                5050      \n",
            "_________________________________________________________________\n",
            "dense_8 (Dense)              (None, 6)                 306       \n",
            "=================================================================\n",
            "Total params: 63,227,256\n",
            "Trainable params: 125,656\n",
            "Non-trainable params: 63,101,600\n",
            "_________________________________________________________________\n"
          ],
          "name": "stdout"
        }
      ]
    },
    {
      "cell_type": "markdown",
      "metadata": {
        "id": "_nplpw0uDWOd",
        "colab_type": "text"
      },
      "source": [
        "As expected from a pretrained model with frozen weights, we only have a few trainable parameters left!"
      ]
    },
    {
      "cell_type": "code",
      "metadata": {
        "id": "csKxmJ8pDW0e",
        "colab_type": "code",
        "outputId": "38bfc3d2-7d89-4aaf-8a62-b741e110134c",
        "colab": {
          "base_uri": "https://localhost:8080/",
          "height": 136
        }
      },
      "source": [
        "glove_hist = glove_model.fit(X_train, y_train, batch_size=32, \n",
        "                             epochs=3, validation_split=0.1)"
      ],
      "execution_count": 0,
      "outputs": [
        {
          "output_type": "stream",
          "text": [
            "Train on 143613 samples, validate on 15958 samples\n",
            "Epoch 1/3\n",
            "143613/143613 [==============================] - 588s 4ms/step - loss: 0.0900 - acc: 0.9726 - val_loss: 0.0607 - val_acc: 0.9786\n",
            "Epoch 2/3\n",
            "143613/143613 [==============================] - 593s 4ms/step - loss: 0.0720 - acc: 0.9760 - val_loss: 0.0591 - val_acc: 0.9790\n",
            "Epoch 3/3\n",
            "143613/143613 [==============================] - 572s 4ms/step - loss: 0.0690 - acc: 0.9766 - val_loss: 0.0601 - val_acc: 0.9781\n"
          ],
          "name": "stdout"
        }
      ]
    },
    {
      "cell_type": "code",
      "metadata": {
        "id": "F7pGtC8HKihS",
        "colab_type": "code",
        "outputId": "a28f997f-408e-4436-def2-0922fd893829",
        "colab": {
          "base_uri": "https://localhost:8080/",
          "height": 376
        }
      },
      "source": [
        "#  \"Accuracy\"\n",
        "plt.plot(glove_hist.history['acc'])\n",
        "plt.plot(glove_hist.history['val_acc'])\n",
        "plt.title('model accuracy')\n",
        "plt.ylabel('accuracy')\n",
        "plt.xlabel('epoch')\n",
        "plt.legend(['train', 'validation'], loc='upper left')\n",
        "plt.show()"
      ],
      "execution_count": 0,
      "outputs": [
        {
          "output_type": "display_data",
          "data": {
            "image/png": "[encoded data removed]",
            "text/plain": [
              "<Figure size 576x396 with 1 Axes>"
            ]
          },
          "metadata": {
            "tags": []
          }
        }
      ]
    },
    {
      "cell_type": "code",
      "metadata": {
        "id": "QMEFdHAvKdxA",
        "colab_type": "code",
        "outputId": "bfe1095b-af07-40d0-cb68-038bc337b7aa",
        "colab": {
          "base_uri": "https://localhost:8080/",
          "height": 376
        }
      },
      "source": [
        "# \"Loss\"\n",
        "plt.plot(glove_hist.history['loss'])\n",
        "plt.plot(glove_hist.history['val_loss'])\n",
        "plt.title('model loss')\n",
        "plt.ylabel('loss')\n",
        "plt.xlabel('epoch')\n",
        "plt.legend(['train', 'validation'], loc='upper left')\n",
        "plt.show()"
      ],
      "execution_count": 0,
      "outputs": [
        {
          "output_type": "display_data",
          "data": {
            "image/png": "[encoded data removed]",
            "text/plain": [
              "<Figure size 576x396 with 1 Axes>"
            ]
          },
          "metadata": {
            "tags": []
          }
        }
      ]
    },
    {
      "cell_type": "markdown",
      "metadata": {
        "id": "LwtbD36QDgVn",
        "colab_type": "text"
      },
      "source": [
        "This algorithm did not improve the RNN's accuracy."
      ]
    },
    {
      "cell_type": "code",
      "metadata": {
        "id": "Wao4Q8FbDZa6",
        "colab_type": "code",
        "outputId": "2548dfb9-f01b-4058-ff23-06f093246c2c",
        "colab": {
          "base_uri": "https://localhost:8080/",
          "height": 68
        }
      },
      "source": [
        "glove_test_loss, glove_test_auc = glove_model.evaluate(X_test, y_test, batch_size=32)\n",
        "print('Test Loss:    ', glove_test_loss)\n",
        "print('Test Accuracy:', glove_test_auc)"
      ],
      "execution_count": 0,
      "outputs": [
        {
          "output_type": "stream",
          "text": [
            "63978/63978 [==============================] - 114s 2ms/step\n",
            "Test Loss:     0.07212525785380185\n",
            "Test Accuracy: 0.9727067521645556\n"
          ],
          "name": "stdout"
        }
      ]
    },
    {
      "cell_type": "markdown",
      "metadata": {
        "id": "PzaDDsjrDqzN",
        "colab_type": "text"
      },
      "source": [
        " RNN with Pre-Trained GloVe Embedding"
      ]
    },
    {
      "cell_type": "code",
      "metadata": {
        "id": "0gDdLv12DwIT",
        "colab_type": "code",
        "colab": {}
      },
      "source": [
        "# instantiate pretrained glove model\n",
        "glove_2_model = Sequential()\n",
        "\n",
        "# add embedding layer \n",
        "glove_2_model.add(Embedding(input_dim =embedding_matrix.shape[0], input_length=max_len,\n",
        "                          output_dim=embedding_matrix.shape[1], \n",
        "                          weights=[embedding_matrix], trainable=False))\n",
        "\n",
        "# set the dropout layer to drop out 50% of the nodes\n",
        "glove_2_model.add(SpatialDropout1D(0.5))\n",
        "\n",
        "# add bidirectional layer and pass in an LSTM()\n",
        "glove_2_model.add(Bidirectional(LSTM(25, return_sequences=True)))\n",
        "\n",
        "# add normalization layer\n",
        "glove_2_model.add(BatchNormalization())\n",
        "\n",
        "# add pooling layer \n",
        "glove_2_model.add(GlobalMaxPool1D())\n",
        "\n",
        "# set the dropout layer to drop out 50% of the nodes\n",
        "glove_2_model.add(Dropout(0.5))\n",
        "\n",
        "# add dense layer to produce an output dimension of 50 and using relu activation\n",
        "glove_2_model.add(Dense(50, activation='relu'))\n",
        "\n",
        "# finally add a dense layer\n",
        "glove_2_model.add(Dense(6, activation='sigmoid'))"
      ],
      "execution_count": 0,
      "outputs": []
    },
    {
      "cell_type": "code",
      "metadata": {
        "id": "vRk-eIq3D1Lq",
        "colab_type": "code",
        "outputId": "82498a81-ab3c-4760-f9c4-68efc45d37f7",
        "colab": {
          "base_uri": "https://localhost:8080/",
          "height": 408
        }
      },
      "source": [
        "glove_2_model.compile(loss='binary_crossentropy',\n",
        "                    optimizer=Adam(0.01),\n",
        "                    metrics=['accuracy'])\n",
        "\n",
        "glove_2_model.summary()"
      ],
      "execution_count": 0,
      "outputs": [
        {
          "output_type": "stream",
          "text": [
            "_________________________________________________________________\n",
            "Layer (type)                 Output Shape              Param #   \n",
            "=================================================================\n",
            "embedding_5 (Embedding)      (None, 200, 300)          63101400  \n",
            "_________________________________________________________________\n",
            "spatial_dropout1d_4 (Spatial (None, 200, 300)          0         \n",
            "_________________________________________________________________\n",
            "bidirectional_2 (Bidirection (None, 200, 50)           65200     \n",
            "_________________________________________________________________\n",
            "batch_normalization_4 (Batch (None, 200, 50)           200       \n",
            "_________________________________________________________________\n",
            "global_max_pooling1d_5 (Glob (None, 50)                0         \n",
            "_________________________________________________________________\n",
            "dropout_5 (Dropout)          (None, 50)                0         \n",
            "_________________________________________________________________\n",
            "dense_9 (Dense)              (None, 50)                2550      \n",
            "_________________________________________________________________\n",
            "dense_10 (Dense)             (None, 6)                 306       \n",
            "=================================================================\n",
            "Total params: 63,169,656\n",
            "Trainable params: 68,156\n",
            "Non-trainable params: 63,101,500\n",
            "_________________________________________________________________\n"
          ],
          "name": "stdout"
        }
      ]
    },
    {
      "cell_type": "code",
      "metadata": {
        "id": "RgbRXR2cD414",
        "colab_type": "code",
        "outputId": "e3769907-6db2-4eee-dc7e-cb3844df46f4",
        "colab": {
          "base_uri": "https://localhost:8080/",
          "height": 136
        }
      },
      "source": [
        "glove_2_hist = glove_2_model.fit(X_train, y_train, batch_size=32, \n",
        "                                 epochs=3, validation_split=0.1)"
      ],
      "execution_count": 0,
      "outputs": [
        {
          "output_type": "stream",
          "text": [
            "Train on 143613 samples, validate on 15958 samples\n",
            "Epoch 1/3\n",
            "143613/143613 [==============================] - 1367s 10ms/step - loss: 0.0841 - acc: 0.9727 - val_loss: 0.0637 - val_acc: 0.9785\n",
            "Epoch 2/3\n",
            "143613/143613 [==============================] - 1364s 9ms/step - loss: 0.0739 - acc: 0.9757 - val_loss: 0.0637 - val_acc: 0.9785\n",
            "Epoch 3/3\n",
            "143613/143613 [==============================] - 1356s 9ms/step - loss: 0.0725 - acc: 0.9758 - val_loss: 0.0611 - val_acc: 0.9787\n"
          ],
          "name": "stdout"
        }
      ]
    },
    {
      "cell_type": "code",
      "metadata": {
        "id": "ZL95CnGhKrCq",
        "colab_type": "code",
        "outputId": "65b0168c-a749-4bb4-ed02-75e591cfd727",
        "colab": {
          "base_uri": "https://localhost:8080/",
          "height": 376
        }
      },
      "source": [
        "#  \"Accuracy\"\n",
        "plt.plot(glove_2_hist.history['acc'])\n",
        "plt.plot(glove_2_hist.history['val_acc'])\n",
        "plt.title('model accuracy')\n",
        "plt.ylabel('accuracy')\n",
        "plt.xlabel('epoch')\n",
        "plt.legend(['train', 'validation'], loc='upper left')\n",
        "plt.show()"
      ],
      "execution_count": 0,
      "outputs": [
        {
          "output_type": "display_data",
          "data": {
            "image/png": "[encoded data removed]",
            "text/plain": [
              "<Figure size 576x396 with 1 Axes>"
            ]
          },
          "metadata": {
            "tags": []
          }
        }
      ]
    },
    {
      "cell_type": "code",
      "metadata": {
        "id": "EB57aPz8KzNg",
        "colab_type": "code",
        "outputId": "4d1bcdaf-e49f-4383-b560-930666cb5939",
        "colab": {
          "base_uri": "https://localhost:8080/",
          "height": 376
        }
      },
      "source": [
        "# \"Loss\"\n",
        "plt.plot(glove_2_hist.history['loss'])\n",
        "plt.plot(glove_2_hist.history['val_loss'])\n",
        "plt.title('model loss')\n",
        "plt.ylabel('loss')\n",
        "plt.xlabel('epoch')\n",
        "plt.legend(['train', 'validation'], loc='upper left')\n",
        "plt.show()"
      ],
      "execution_count": 0,
      "outputs": [
        {
          "output_type": "display_data",
          "data": {
            "image/png": "[encoded data removed]",
            "text/plain": [
              "<Figure size 576x396 with 1 Axes>"
            ]
          },
          "metadata": {
            "tags": []
          }
        }
      ]
    },
    {
      "cell_type": "code",
      "metadata": {
        "id": "KsgN2-5QD88W",
        "colab_type": "code",
        "outputId": "9657d6b9-bb8c-4aee-84c4-c620059c1639",
        "colab": {
          "base_uri": "https://localhost:8080/",
          "height": 68
        }
      },
      "source": [
        "glove_2_test_loss, glove_2_test_auc = glove_2_model.evaluate(X_test, y_test, batch_size=32)\n",
        "print('Test Loss:    ', glove_2_test_loss)\n",
        "print('Test Accuracy:', glove_2_test_auc)"
      ],
      "execution_count": 0,
      "outputs": [
        {
          "output_type": "stream",
          "text": [
            "63978/63978 [==============================] - 209s 3ms/step\n",
            "Test Loss:     0.08066727316528796\n",
            "Test Accuracy: 0.9701876617792701\n"
          ],
          "name": "stdout"
        }
      ]
    },
    {
      "cell_type": "markdown",
      "metadata": {
        "id": "PQ8tmRx1VGQA",
        "colab_type": "text"
      },
      "source": [
        "glove+CNN+LSTM\n"
      ]
    },
    {
      "cell_type": "code",
      "metadata": {
        "id": "UDgxGz7GVL2S",
        "colab_type": "code",
        "outputId": "f00e4e68-98f6-4d5c-d4ca-3b5ddac8c700",
        "colab": {
          "base_uri": "https://localhost:8080/",
          "height": 34
        }
      },
      "source": [
        "# load the glove6B embedding\n",
        "\n",
        "embeddings_index = dict()\n",
        "f = open('/content/data/glove.6B.300d.txt')\n",
        "\n",
        "for line in f:\n",
        "    # Note: use split(' ') instead of split() if you get an error\n",
        "    values = line.split(' ')\n",
        "    word = values[0]\n",
        "    coefs = np.asarray(values[1:], dtype='float32')\n",
        "    embeddings_index[word] = coefs\n",
        "f.close()\n",
        "\n",
        "print('Loaded %s word vectors.' % len(embeddings_index))"
      ],
      "execution_count": 0,
      "outputs": [
        {
          "output_type": "stream",
          "text": [
            "Loaded 400000 word vectors.\n"
          ],
          "name": "stdout"
        }
      ]
    },
    {
      "cell_type": "code",
      "metadata": {
        "id": "0klPE6-7VV8w",
        "colab_type": "code",
        "colab": {}
      },
      "source": [
        "# create a weight matrix\n",
        "embedding_matrix = np.zeros((len(tokenizer.word_index)+1, 300))\n",
        "\n",
        "for word, i in tokenizer.word_index.items():\n",
        "    embedding_vector = embeddings_index.get(word)\n",
        "    if embedding_vector is not None:\n",
        "        embedding_matrix[i] = embedding_vector"
      ],
      "execution_count": 0,
      "outputs": []
    },
    {
      "cell_type": "code",
      "metadata": {
        "id": "CSmzHwIeVfsw",
        "colab_type": "code",
        "colab": {}
      },
      "source": [
        "# instantiate pretrained glove model\n",
        "glove_model_1 = Sequential()\n",
        "\n",
        "# add embedding layer \n",
        "glove_model_1.add(Embedding(input_dim =embedding_matrix.shape[0], input_length=max_len,\n",
        "                          output_dim=embedding_matrix.shape[1], \n",
        "                          weights=[embedding_matrix], trainable=False))\n",
        " \n",
        "# set the dropout layer to drop out 50% of the nodes\n",
        "glove_model_1.add(SpatialDropout1D(0.5))\n",
        "\n",
        "# add convolutional layer that has ...\n",
        "# ... 100 filters with a kernel size of 4 so that each convolution will consider a window of 4 word embeddings\n",
        "glove_model_1.add(Conv1D(filters=100, kernel_size=4, padding='same', activation='relu'))\n",
        "\n",
        "# add bidirectional layer and pass in an LSTM()\n",
        "glove_model_1.add(Bidirectional(LSTM(25, return_sequences=True)))\n",
        "\n",
        "# add normalization layer\n",
        "glove_model_1.add(BatchNormalization())\n",
        "\n",
        "# add pooling layer \n",
        "glove_model_1.add(GlobalMaxPool1D())\n",
        "\n",
        "# set the dropout layer to drop out 50% of the nodes\n",
        "glove_model_1.add(Dropout(0.5))\n",
        "\n",
        "# add dense layer to produce an output dimension of 50 and using relu activation\n",
        "glove_model_1.add(Dense(50, activation='relu'))\n",
        "\n",
        "# finally add a dense layer\n",
        "glove_model_1.add(Dense(6, activation='sigmoid'))\n"
      ],
      "execution_count": 0,
      "outputs": []
    },
    {
      "cell_type": "code",
      "metadata": {
        "id": "Mv3c36bKVlUj",
        "colab_type": "code",
        "outputId": "afe11fd4-a2a8-467d-aec2-739ba004a768",
        "colab": {
          "base_uri": "https://localhost:8080/",
          "height": 442
        }
      },
      "source": [
        "glove_model_1.compile(loss='binary_crossentropy',\n",
        "                    optimizer=Adam(0.01),\n",
        "                    metrics=['accuracy'])\n",
        "\n",
        "glove_model_1.summary()"
      ],
      "execution_count": 0,
      "outputs": [
        {
          "output_type": "stream",
          "text": [
            "_________________________________________________________________\n",
            "Layer (type)                 Output Shape              Param #   \n",
            "=================================================================\n",
            "embedding_6 (Embedding)      (None, 200, 300)          63101400  \n",
            "_________________________________________________________________\n",
            "spatial_dropout1d_5 (Spatial (None, 200, 300)          0         \n",
            "_________________________________________________________________\n",
            "conv1d_3 (Conv1D)            (None, 200, 100)          120100    \n",
            "_________________________________________________________________\n",
            "bidirectional_3 (Bidirection (None, 200, 50)           25200     \n",
            "_________________________________________________________________\n",
            "batch_normalization_5 (Batch (None, 200, 50)           200       \n",
            "_________________________________________________________________\n",
            "global_max_pooling1d_6 (Glob (None, 50)                0         \n",
            "_________________________________________________________________\n",
            "dropout_6 (Dropout)          (None, 50)                0         \n",
            "_________________________________________________________________\n",
            "dense_11 (Dense)             (None, 50)                2550      \n",
            "_________________________________________________________________\n",
            "dense_12 (Dense)             (None, 6)                 306       \n",
            "=================================================================\n",
            "Total params: 63,249,756\n",
            "Trainable params: 148,256\n",
            "Non-trainable params: 63,101,500\n",
            "_________________________________________________________________\n"
          ],
          "name": "stdout"
        }
      ]
    },
    {
      "cell_type": "code",
      "metadata": {
        "id": "xBOgumWsVqFR",
        "colab_type": "code",
        "outputId": "e08859be-78d5-48b5-c3fb-7d167cf8df11",
        "colab": {
          "base_uri": "https://localhost:8080/",
          "height": 136
        }
      },
      "source": [
        "glove_hist_1 = glove_model_1.fit(X_train, y_train, batch_size=32, \n",
        "                             epochs=3, validation_split=0.1)"
      ],
      "execution_count": 0,
      "outputs": [
        {
          "output_type": "stream",
          "text": [
            "Train on 143613 samples, validate on 15958 samples\n",
            "Epoch 1/3\n",
            "143613/143613 [==============================] - 1905s 13ms/step - loss: 0.0900 - acc: 0.9714 - val_loss: 0.0720 - val_acc: 0.9759\n",
            "Epoch 2/3\n",
            "143613/143613 [==============================] - 1708s 12ms/step - loss: 0.0823 - acc: 0.9735 - val_loss: 0.0744 - val_acc: 0.9764\n",
            "Epoch 3/3\n",
            "143613/143613 [==============================] - 1743s 12ms/step - loss: 0.0839 - acc: 0.9731 - val_loss: 0.0818 - val_acc: 0.9742\n"
          ],
          "name": "stdout"
        }
      ]
    },
    {
      "cell_type": "code",
      "metadata": {
        "id": "E7fPx8IXK73n",
        "colab_type": "code",
        "outputId": "e089cad6-d8da-4191-c2af-20e5f00be115",
        "colab": {
          "base_uri": "https://localhost:8080/",
          "height": 376
        }
      },
      "source": [
        "# \"Loss\"\n",
        "plt.plot(glove_hist_1.history['loss'])\n",
        "plt.plot(glove_hist_1.history['val_loss'])\n",
        "plt.title('model loss')\n",
        "plt.ylabel('loss')\n",
        "plt.xlabel('epoch')\n",
        "plt.legend(['train', 'validation'], loc='upper left')\n",
        "plt.show()"
      ],
      "execution_count": 0,
      "outputs": [
        {
          "output_type": "display_data",
          "data": {
            "image/png": "[encoded data removed]",
            "text/plain": [
              "<Figure size 576x396 with 1 Axes>"
            ]
          },
          "metadata": {
            "tags": []
          }
        }
      ]
    },
    {
      "cell_type": "code",
      "metadata": {
        "id": "bYA8k3VmLCkl",
        "colab_type": "code",
        "outputId": "de3042ee-4cd3-4674-a3a6-d985de383c48",
        "colab": {
          "base_uri": "https://localhost:8080/",
          "height": 376
        }
      },
      "source": [
        "# \"Loss\"\n",
        "plt.plot(glove_hist_1.history['loss'])\n",
        "plt.plot(glove_hist_1.history['val_loss'])\n",
        "plt.title('model loss')\n",
        "plt.ylabel('loss')\n",
        "plt.xlabel('epoch')\n",
        "plt.legend(['train', 'validation'], loc='upper left')\n",
        "plt.show()"
      ],
      "execution_count": 0,
      "outputs": [
        {
          "output_type": "display_data",
          "data": {
            "image/png": "[encoded data removed]",
            "text/plain": [
              "<Figure size 576x396 with 1 Axes>"
            ]
          },
          "metadata": {
            "tags": []
          }
        }
      ]
    },
    {
      "cell_type": "code",
      "metadata": {
        "id": "wQvTHdbTVv-p",
        "colab_type": "code",
        "outputId": "2bb61ba2-6dc9-4e75-d64c-13de8a8ddfec",
        "colab": {
          "base_uri": "https://localhost:8080/",
          "height": 68
        }
      },
      "source": [
        "glove_1_test_loss, glove_1_test_auc = glove_model_1.evaluate(X_test, y_test, batch_size=32)\n",
        "print('Test Loss:    ', glove_1_test_loss)\n",
        "print('Test Accuracy:', glove_1_test_auc)"
      ],
      "execution_count": 0,
      "outputs": [
        {
          "output_type": "stream",
          "text": [
            "63978/63978 [==============================] - 230s 4ms/step\n",
            "Test Loss:     0.09040789394180744\n",
            "Test Accuracy: 0.9695259754467467\n"
          ],
          "name": "stdout"
        }
      ]
    },
    {
      "cell_type": "markdown",
      "metadata": {
        "id": "Nq7d8m9OEGtC",
        "colab_type": "text"
      },
      "source": [
        "Conclusions"
      ]
    },
    {
      "cell_type": "code",
      "metadata": {
        "id": "XCGAp2dUEHm7",
        "colab_type": "code",
        "colab": {}
      },
      "source": [
        "# concat all training, validation and testing accuracy scores\n",
        "accuracy_nn = ['Plain NN', \n",
        "               np.mean(base_hist.history['acc']), \n",
        "               np.mean(base_hist.history['val_acc']), \n",
        "               base_test_auc]\n",
        "\n",
        "accuracy_cnn = ['CNN', \n",
        "                np.mean(cnn_hist.history['acc']), \n",
        "                np.mean(cnn_hist.history['val_acc']), \n",
        "                cnn_test_auc]\n",
        "\n",
        "accuracy_rnn = ['LSTM', \n",
        "                np.mean(rnn_hist.history['acc']), \n",
        "                np.mean(rnn_hist.history['val_acc']), \n",
        "                rnn_test_auc]\n",
        "\n",
        "accuracy_glove = ['Glove CNN', \n",
        "                  np.mean(glove_hist.history['acc']), \n",
        "                  np.mean(glove_hist.history['val_acc']), \n",
        "                  glove_test_auc]\n",
        "\n",
        "accuracy_glove_2 = ['Glove LSTM', \n",
        "                    np.mean(glove_2_hist.history['acc']), \n",
        "                    np.mean(glove_2_hist.history['val_acc']), \n",
        "                    glove_2_test_auc]\n",
        "\n",
        "accuracy_glove_2 = ['Glove CNN LSTM', \n",
        "                    np.mean(glove_hist_1.history['acc']), \n",
        "                    np.mean(glove_hist_1.history['val_acc']), \n",
        "                    glove_1_test_auc]\n",
        "\n",
        "# create dataframe\n",
        "comparison = pd.DataFrame([accuracy_nn])\n",
        "# append all other scores\n",
        "comparison = comparison.append([accuracy_cnn, accuracy_rnn, accuracy_glove, accuracy_glove_2])"
      ],
      "execution_count": 0,
      "outputs": []
    },
    {
      "cell_type": "markdown",
      "metadata": {
        "id": "Hh1JxW2REaCy",
        "colab_type": "text"
      },
      "source": [
        "When we look at the training accuracy, the plain neural network performs best.\n",
        "When we check the validation accuracy, it's also the plain neural network that stands out.\n",
        "But when we check how well the models classify unseen data - and therefore check the testing accuracy - it's the pre-trained RNN that does this job with the highest precision.\n",
        "In this common challenge, it really came down to the decimal places. The winner reached an accuracy score of 0.9877 for a pre-trained embedding - although I'm not certain whether this is a training or validation accuracy. They also used a semi-supervised learning technique called Pseudo-Labelling!"
      ]
    },
    {
      "cell_type": "code",
      "metadata": {
        "id": "6jZEXVbzEUoI",
        "colab_type": "code",
        "outputId": "6ed21142-e3eb-4146-f319-745c9b35e0ae",
        "colab": {
          "base_uri": "https://localhost:8080/",
          "height": 235
        }
      },
      "source": [
        "# beautify the new dataframe\n",
        "comparison.columns = ['Algorithm', 'Training Accuracy', 'Validation Accuracy', 'Testing Accuracy']\n",
        "comparison.set_index(['Algorithm'], inplace=True)\n",
        "comparison"
      ],
      "execution_count": 0,
      "outputs": [
        {
          "output_type": "execute_result",
          "data": {
            "text/html": [
              "<div>\n",
              "<style scoped>\n",
              "    .dataframe tbody tr th:only-of-type {\n",
              "        vertical-align: middle;\n",
              "    }\n",
              "\n",
              "    .dataframe tbody tr th {\n",
              "        vertical-align: top;\n",
              "    }\n",
              "\n",
              "    .dataframe thead th {\n",
              "        text-align: right;\n",
              "    }\n",
              "</style>\n",
              "<table border=\"1\" class=\"dataframe\">\n",
              "  <thead>\n",
              "    <tr style=\"text-align: right;\">\n",
              "      <th></th>\n",
              "      <th>Training Accuracy</th>\n",
              "      <th>Validation Accuracy</th>\n",
              "      <th>Testing Accuracy</th>\n",
              "    </tr>\n",
              "    <tr>\n",
              "      <th>Algorithm</th>\n",
              "      <th></th>\n",
              "      <th></th>\n",
              "      <th></th>\n",
              "    </tr>\n",
              "  </thead>\n",
              "  <tbody>\n",
              "    <tr>\n",
              "      <th>Plain NN</th>\n",
              "      <td>0.979456</td>\n",
              "      <td>0.979662</td>\n",
              "      <td>0.971587</td>\n",
              "    </tr>\n",
              "    <tr>\n",
              "      <th>CNN</th>\n",
              "      <td>0.978511</td>\n",
              "      <td>0.980163</td>\n",
              "      <td>0.970638</td>\n",
              "    </tr>\n",
              "    <tr>\n",
              "      <th>LSTM</th>\n",
              "      <td>0.977480</td>\n",
              "      <td>0.980740</td>\n",
              "      <td>0.971753</td>\n",
              "    </tr>\n",
              "    <tr>\n",
              "      <th>Glove CNN</th>\n",
              "      <td>0.975085</td>\n",
              "      <td>0.978583</td>\n",
              "      <td>0.972707</td>\n",
              "    </tr>\n",
              "    <tr>\n",
              "      <th>Glove CNN LSTM</th>\n",
              "      <td>0.972660</td>\n",
              "      <td>0.975502</td>\n",
              "      <td>0.969526</td>\n",
              "    </tr>\n",
              "  </tbody>\n",
              "</table>\n",
              "</div>"
            ],
            "text/plain": [
              "                Training Accuracy  Validation Accuracy  Testing Accuracy\n",
              "Algorithm                                                               \n",
              "Plain NN                 0.979456             0.979662          0.971587\n",
              "CNN                      0.978511             0.980163          0.970638\n",
              "LSTM                     0.977480             0.980740          0.971753\n",
              "Glove CNN                0.975085             0.978583          0.972707\n",
              "Glove CNN LSTM           0.972660             0.975502          0.969526"
            ]
          },
          "metadata": {
            "tags": []
          },
          "execution_count": 59
        }
      ]
    }
  ]
}